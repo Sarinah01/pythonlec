{
 "cells": [
  {
   "cell_type": "code",
   "execution_count": null,
   "metadata": {},
   "outputs": [],
   "source": [
    "num = int(input('Enter the marks you want t enter : '))\n",
    "count = 1\n",
    "max = num\n",
    "min = num\n",
    "secMax = num\n",
    "secMin = num\n",
    "sum = 0\n",
    "while True:\n",
    "    marks = (input())\n",
    "    if (marks == 'done'):\n",
    "        break\n",
    "    finalM = int(marks)\n",
    "    if(finalM < 0 or finalM >100):\n",
    "        print('Enter Valid nos.')\n",
    "    else:\n",
    "        count += 1\n",
    "        if (max < finalM):\n",
    "            secMax= max\n",
    "            max= finalM\n",
    "        if(min > finalM):\n",
    "            secMin = min\n",
    "            min = finalM\n",
    "        sum += finalM\n",
    "        avg = sum/count\n",
    "print(f\"avg = {avg} , max = {max} , min = {min} , secMax = {secMax} , secMin = {secMin}\")        \n",
    "    "
   ]
  },
  {
   "cell_type": "code",
   "execution_count": null,
   "metadata": {},
   "outputs": [],
   "source": []
  },
  {
   "cell_type": "code",
   "execution_count": null,
   "metadata": {},
   "outputs": [],
   "source": []
  },
  {
   "cell_type": "code",
   "execution_count": 11,
   "metadata": {},
   "outputs": [
    {
     "name": "stdout",
     "output_type": "stream",
     "text": [
      "Enter the marks you want t enter : 5\n",
      "Enter the marks you want t enter : 4\n",
      "Enter the marks you want t enter : 3\n",
      "Enter the marks you want t enter : 2\n",
      "Enter the marks you want t enter : 1\n",
      "Enter the marks you want t enter : done\n",
      "avg = 2.5 , max = 101 , min = -1 , secMax = 0 , secMin = 0\n"
     ]
    }
   ],
   "source": [
    "\n",
    "count = 1\n",
    "max = 101\n",
    "min = -1\n",
    "secMax = 0\n",
    "secMin = 0\n",
    "sum = 0\n",
    "while True:\n",
    "    marks = (input('Enter the marks you want t enter : '))\n",
    "    if (marks == 'done'):\n",
    "        break\n",
    "    finalM = int(marks)\n",
    "    if(finalM < 0 or finalM >100):\n",
    "        print('Enter Valid nos.')\n",
    "    else:\n",
    "        count += 1\n",
    "        if (max <= finalM):\n",
    "            secMax= max\n",
    "            max= finalM\n",
    "        if(min >= finalM):\n",
    "            secMin = min\n",
    "            min = finalM\n",
    "        sum += finalM\n",
    "        avg = sum/count\n",
    "print(f\"avg = {avg} , max = {max} , min = {min} , secMax = {secMax} , secMin = {secMin}\")        \n",
    "    "
   ]
  },
  {
   "cell_type": "code",
   "execution_count": 3,
   "metadata": {},
   "outputs": [
    {
     "name": "stdout",
     "output_type": "stream",
     "text": [
      "Enter the marks you want t enter : 12\n",
      "23\n",
      "34\n",
      "done\n",
      "avg = 19.0 , max = 34 , min = 12 , secMax = 23 , secMin = 12\n"
     ]
    }
   ],
   "source": [
    "num = int(input('Enter the marks you want t enter : '))\n",
    "count = 1\n",
    "max = num\n",
    "min = num\n",
    "secMax = num\n",
    "secMin = num\n",
    "sum = 0\n",
    "while True:\n",
    "    marks = (input())\n",
    "    if (marks == 'done'):\n",
    "        break\n",
    "    finalM = int(marks)\n",
    "    if(finalM < 0 or finalM >100):\n",
    "        print('Enter Valid nos.')\n",
    "    else:\n",
    "        count += 1\n",
    "        if (max < finalM):\n",
    "            secMax= max\n",
    "            max= finalM\n",
    "        if(min > finalM):\n",
    "            secMin = min\n",
    "            min = finalM\n",
    "            \n",
    "        sum += finalM\n",
    "        avg = sum/count\n",
    "print(f\"avg = {avg} , max = {max} , min = {min} , secMax = {secMax} , secMin = {secMin}\")        \n",
    "    "
   ]
  },
  {
   "cell_type": "code",
   "execution_count": 12,
   "metadata": {},
   "outputs": [
    {
     "name": "stdout",
     "output_type": "stream",
     "text": [
      "Enter the marks you want to enter (or type \"done\" to finish): 5\n",
      "Enter the marks you want to enter (or type \"done\" to finish): 4\n",
      "Enter the marks you want to enter (or type \"done\" to finish): 3\n",
      "Enter the marks you want to enter (or type \"done\" to finish): 2\n",
      "Enter the marks you want to enter (or type \"done\" to finish): 1\n",
      "Enter the marks you want to enter (or type \"done\" to finish): done\n",
      "avg = 3.00 , max = 5 , min = 1 , secMax = 4 , secMin = 2\n"
     ]
    }
   ],
   "source": [
    "count = 0\n",
    "max_val = -1        \n",
    "min_val = 101      \n",
    "secMax = None\n",
    "secMin = None\n",
    "sum_marks = 0\n",
    "\n",
    "while True:\n",
    "    marks = input('Enter the marks you want to enter (or type \"done\" to finish): ')\n",
    "    if marks.lower() == 'done':\n",
    "        break\n",
    "    \n",
    "    # Check if input is a digit before converting\n",
    "    if not marks.isdigit():\n",
    "        print(\"Please enter a valid integer or 'done'.\")\n",
    "        continue\n",
    "    \n",
    "    finalM = int(marks)\n",
    "\n",
    "    if finalM < 0 or finalM > 100:\n",
    "        print('Enter valid numbers between 0 and 100.')\n",
    "        continue\n",
    "\n",
    "    count += 1\n",
    "    sum_marks += finalM\n",
    "\n",
    "    # Update max and second max\n",
    "    if finalM > max_val:\n",
    "        secMax = max_val\n",
    "        max_val = finalM\n",
    "    elif secMax is None or (finalM > secMax and finalM != max_val):\n",
    "        secMax = finalM\n",
    "\n",
    "    # Update min and second min\n",
    "    if finalM < min_val:\n",
    "        secMin = min_val\n",
    "        min_val = finalM\n",
    "    elif secMin is None or (finalM < secMin and finalM != min_val):\n",
    "        secMin = finalM\n",
    "\n",
    "if count == 0:\n",
    "    print(\"No valid marks were entered.\")\n",
    "else:\n",
    "    avg = sum_marks / count\n",
    "    print(f\"avg = {avg:.2f} , max = {max_val} , min = {min_val} , secMax = {secMax} , secMin = {secMin}\")\n"
   ]
  },
  {
   "cell_type": "code",
   "execution_count": 15,
   "metadata": {},
   "outputs": [
    {
     "name": "stdout",
     "output_type": "stream",
     "text": [
      "Enter rows: 4\n",
      "* * * * \n",
      "* * * * \n",
      "* * * * \n",
      "* * * * \n"
     ]
    }
   ],
   "source": [
    "n = int(input('Enter rows: '))\n",
    "for r in range(1, n+1):\n",
    "    for c in range(1, n+1):\n",
    "        print('*', end=\" \")\n",
    "    print()"
   ]
  },
  {
   "cell_type": "code",
   "execution_count": 17,
   "metadata": {},
   "outputs": [
    {
     "name": "stdout",
     "output_type": "stream",
     "text": [
      "Enter rows: 5\n",
      " *  \n",
      " *   *  \n",
      " *   *   *  \n",
      " *   *   *   *  \n",
      " *   *   *   *   *  \n"
     ]
    }
   ],
   "source": [
    "n = int(input('Enter rows: '))\n",
    "for r in range (1, n+1):\n",
    "    for c in range(1,r+1):\n",
    "        print(' * ', end = ' ')\n",
    "    print()"
   ]
  },
  {
   "cell_type": "code",
   "execution_count": 21,
   "metadata": {},
   "outputs": [
    {
     "name": "stdout",
     "output_type": "stream",
     "text": [
      "Enter rows: 5\n",
      "* * * * * \n",
      "* * * * \n",
      "* * * \n",
      "* * \n",
      "* \n"
     ]
    }
   ],
   "source": [
    "n = int(input('Enter rows: '))\n",
    "for i in range (1, n+1):\n",
    "    for j in range(n+1,i,-1):\n",
    "        print('*', end= \" \")\n",
    "    print()"
   ]
  },
  {
   "cell_type": "code",
   "execution_count": 25,
   "metadata": {},
   "outputs": [
    {
     "name": "stdout",
     "output_type": "stream",
     "text": [
      "Enter rows: 5\n",
      "        * \n",
      "      * * \n",
      "    * * * \n",
      "  * * * * \n",
      "* * * * * \n"
     ]
    }
   ],
   "source": [
    "n = int(input('Enter rows: '))\n",
    "for r in range(1, n+1):\n",
    "#     space:\n",
    "    for space in range(n,r,-1):\n",
    "        print(\" \" , end = \" \")\n",
    "    for j in range(1, r+1):\n",
    "        print('*', end = \" \")\n",
    "    print()\n",
    "    "
   ]
  },
  {
   "cell_type": "code",
   "execution_count": 49,
   "metadata": {},
   "outputs": [
    {
     "name": "stdout",
     "output_type": "stream",
     "text": [
      "Enter rows: 7\n",
      "            * \n",
      "          * * * \n",
      "        * * * * * \n",
      "      * * * * * * * \n",
      "    * * * * * * * * * \n",
      "  * * * * * * * * * * * \n",
      "* * * * * * * * * * * * * \n",
      "  * * * * * * * * * * * \n",
      "    * * * * * * * * * \n",
      "      * * * * * * * \n",
      "        * * * * * \n",
      "          * * * \n",
      "            * \n"
     ]
    }
   ],
   "source": [
    "n = int(input('Enter rows: '))\n",
    "\n",
    "for r in range(1, n + 1):\n",
    "    for space in range(n, r, -1):\n",
    "        print(\" \", end=\" \")\n",
    "    for j in range(1, r + 1):\n",
    "        print('*', end=\" \")\n",
    "    for j in range(1, r):\n",
    "        print('*', end=\" \")\n",
    "    print()\n",
    "\n",
    "for r in range(n - 1, 0, -1):\n",
    "    for space in range(n, r, -1):\n",
    "        print(\" \", end=\" \")\n",
    "    for j in range(1, r + 1):\n",
    "        print('*', end=\" \")\n",
    "    for j in range(1, r):\n",
    "        print('*', end=\" \")\n",
    "    print()\n"
   ]
  },
  {
   "cell_type": "code",
   "execution_count": null,
   "metadata": {},
   "outputs": [],
   "source": []
  }
 ],
 "metadata": {
  "kernelspec": {
   "display_name": "Python 3",
   "language": "python",
   "name": "python3"
  },
  "language_info": {
   "codemirror_mode": {
    "name": "ipython",
    "version": 3
   },
   "file_extension": ".py",
   "mimetype": "text/x-python",
   "name": "python",
   "nbconvert_exporter": "python",
   "pygments_lexer": "ipython3",
   "version": "3.8.5"
  }
 },
 "nbformat": 4,
 "nbformat_minor": 4
}
