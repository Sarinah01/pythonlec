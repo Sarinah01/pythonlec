{
 "cells": [
  {
   "cell_type": "code",
   "execution_count": 4,
   "metadata": {},
   "outputs": [
    {
     "name": "stdout",
     "output_type": "stream",
     "text": [
      "5\n",
      "6\n",
      "6\n"
     ]
    }
   ],
   "source": [
    "def f(y):\n",
    "    global x\n",
    "    print(x)\n",
    "    x+=1\n",
    "    print(x)\n",
    "    def g():\n",
    "        global x\n",
    "        x+=7\n",
    "        print(x)\n",
    "        return g()\n",
    "x=5\n",
    "f(x)\n",
    "print(x)"
   ]
  },
  {
   "cell_type": "code",
   "execution_count": 6,
   "metadata": {},
   "outputs": [
    {
     "name": "stdout",
     "output_type": "stream",
     "text": [
      "5\n",
      "6\n",
      "6\n"
     ]
    }
   ],
   "source": [
    "def f(y):\n",
    "    global x\n",
    "    print(x)\n",
    "    x+=1\n",
    "    print(x)\n",
    "    def g():\n",
    "        x+=7\n",
    "        print(x)\n",
    "        return g()\n",
    "x=5\n",
    "f(x)\n",
    "print(x)"
   ]
  },
  {
   "cell_type": "code",
   "execution_count": 16,
   "metadata": {},
   "outputs": [
    {
     "name": "stdout",
     "output_type": "stream",
     "text": [
      "Enter number: 32\n",
      "Happy nos:is 32\n"
     ]
    }
   ],
   "source": [
    "n = int(input(\"Enter number: \"))\n",
    "\n",
    "count = 0\n",
    "while (n!=1 and n!=4):\n",
    "    sum=0\n",
    "    while n >0:\n",
    "        rem = n%10\n",
    "        ans = rem ** 2\n",
    "        sum = sum+ans\n",
    "        n = n//10\n",
    "    n = sum\n",
    "    \n",
    "if(n==1):\n",
    "    print(\"Happy nos:is\" ,32)\n",
    "elif(n==4):\n",
    "    print(\"Not a happy ns\")\n"
   ]
  },
  {
   "cell_type": "code",
   "execution_count": 17,
   "metadata": {},
   "outputs": [
    {
     "name": "stdout",
     "output_type": "stream",
     "text": [
      "8\n"
     ]
    }
   ],
   "source": [
    "def f():\n",
    "    def g(x,y):\n",
    "        return x+y\n",
    "    return g\n",
    "val = f()(3,5)\n",
    "print(val)"
   ]
  },
  {
   "cell_type": "code",
   "execution_count": 18,
   "metadata": {},
   "outputs": [
    {
     "name": "stdout",
     "output_type": "stream",
     "text": [
      "g\n",
      "f\n",
      "None\n"
     ]
    }
   ],
   "source": [
    "def f():\n",
    "    print(\"f\")\n",
    "def g(z):\n",
    "    print(\"g\")\n",
    "    return z()\n",
    "print(g(f))"
   ]
  },
  {
   "cell_type": "code",
   "execution_count": 20,
   "metadata": {},
   "outputs": [
    {
     "name": "stdout",
     "output_type": "stream",
     "text": [
      "Enter number: 3\n",
      "6\n"
     ]
    }
   ],
   "source": [
    "day=int(input(\"Enter number: \"))\n",
    "money =0\n",
    "weel = 0\n",
    "count = 1\n",
    "\n",
    "for i in range(1,day+1):\n",
    "    money+= count\n",
    "    if i%7 == 0:\n",
    "        week+=1\n",
    "        count = week\n",
    "    count+=1\n",
    "print(money)"
   ]
  },
  {
   "cell_type": "code",
   "execution_count": 23,
   "metadata": {},
   "outputs": [
    {
     "name": "stdout",
     "output_type": "stream",
     "text": [
      "Enter Number: 4\n",
      "*       * * \n",
      "*       * * * \n",
      "*       * * * * \n",
      "*       * * * \n"
     ]
    }
   ],
   "source": [
    "n =  int(input(\"Enter Number: \"))\n",
    "for i in range(1,n+1):\n",
    "    for j in range(i,i+1):\n",
    "        print(\"*\",end=\" \")\n",
    "    print(\" \"*(2*(n-1)-1),end=\" \")\n",
    "    for k in range(1, i+2 if i!=n else i):\n",
    "        print(\"*\" , end=\" \")\n",
    "    print()"
   ]
  },
  {
   "cell_type": "code",
   "execution_count": null,
   "metadata": {},
   "outputs": [],
   "source": []
  }
 ],
 "metadata": {
  "kernelspec": {
   "display_name": "Python 3",
   "language": "python",
   "name": "python3"
  },
  "language_info": {
   "codemirror_mode": {
    "name": "ipython",
    "version": 3
   },
   "file_extension": ".py",
   "mimetype": "text/x-python",
   "name": "python",
   "nbconvert_exporter": "python",
   "pygments_lexer": "ipython3",
   "version": "3.8.5"
  }
 },
 "nbformat": 4,
 "nbformat_minor": 4
}
