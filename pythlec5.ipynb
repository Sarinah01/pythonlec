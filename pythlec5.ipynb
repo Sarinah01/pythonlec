{
 "cells": [
  {
   "cell_type": "code",
   "execution_count": null,
   "metadata": {},
   "outputs": [],
   "source": [
    "n  = int(input(\"Enter Number: \"))\n",
    "\n",
    "for i in range(1,n+1):\n",
    "    for j in range(n+1,i,-1):\n",
    "        print(\" \", end= \" \")\n",
    "    for k in range(i, 0,-1):\n",
    "        print(k, end=\" \")\n",
    "    for l in range(2, i+1):\n",
    "        print(l, end=\" \")\n",
    "    print()\n",
    "for i in range(n+1,0,-1):\n",
    "    for j in range(n+1,i,-1):\n",
    "        print(\" \", end= \" \")\n",
    "    for k in range(i, 0,-1):\n",
    "        print(k, end=\" \")\n",
    "    for l in range(2, i+1):\n",
    "        print(l, end=\" \")\n",
    "    print()       "
   ]
  },
  {
   "cell_type": "code",
   "execution_count": 50,
   "metadata": {},
   "outputs": [
    {
     "name": "stdout",
     "output_type": "stream",
     "text": [
      "Enter Number: 5\n",
      "  5   4   3   2   1 \n",
      "    4   3   2   1 \n",
      "      3   2   1 \n",
      "        2   1 \n",
      "          1 \n",
      "        2   1 \n",
      "      3   2   1 \n",
      "    4   3   2   1 \n",
      "  5   4   3   2   1 \n"
     ]
    }
   ],
   "source": [
    "n  = int(input(\"Enter Number: \"))\n",
    "for i in range(1, n+1):\n",
    "    for j in range(1,i):\n",
    "        print(\" \", end= \" \")\n",
    "    for k in range(n+1-i, 0 , -1):\n",
    "        print(\" \", k , end=' ')\n",
    "    print()\n",
    "for i in range(n-1,0,-1):\n",
    "    for j in range(1,i):\n",
    "        print(\" \", end= \" \")\n",
    "    for k in range(n+1-i, 0 , -1):\n",
    "        print(\" \", k , end=' ')\n",
    "    print()\n"
   ]
  },
  {
   "cell_type": "code",
   "execution_count": 7,
   "metadata": {},
   "outputs": [
    {
     "name": "stdout",
     "output_type": "stream",
     "text": [
      "Enter rows: 5\n",
      "                      1 \n",
      "                   1     1 \n",
      "                1     2     1 \n",
      "             1     3     3     1 \n",
      "          1     4     6     4     1 \n"
     ]
    }
   ],
   "source": [
    "import math\n",
    "n = int(input('Enter rows: '))\n",
    "for i in range(n):\n",
    "    for k in range(n+1,i,-1):\n",
    "        print('   ', end= '')\n",
    "    for j in range(0, i+1):\n",
    "        num = math.factorial(i)\n",
    "        deno =(math.factorial(i-j))*(math.factorial(j))\n",
    "        ans = num//deno\n",
    "        print(\"   \", ans, end=' ')\n",
    "    print()"
   ]
  },
  {
   "cell_type": "markdown",
   "metadata": {},
   "source": [
    "chara = char(input\"Enter Number\")\n",
    "for"
   ]
  },
  {
   "cell_type": "raw",
   "metadata": {},
   "source": [
    "chara = int(input(\"Enter Number\"))\n",
    "for i in range(char(65), char(chara)):\n",
    "    for j in range(char(65) , i):\n",
    "        print(j , end=\" \")\n",
    "    print()\n",
    "    "
   ]
  },
  {
   "cell_type": "code",
   "execution_count": null,
   "metadata": {},
   "outputs": [],
   "source": [
    "chara = int(input(\"Enter Number\"))\n",
    "for i in range(char(65), char(chara)):\n",
    "    for j in range(char(65) , i):\n",
    "        print(j , end=\" \")\n",
    "    print()\n",
    "    "
   ]
  },
  {
   "cell_type": "code",
   "execution_count": 10,
   "metadata": {},
   "outputs": [
    {
     "name": "stdout",
     "output_type": "stream",
     "text": [
      "Enter hours :4\n",
      " how many to add3\n",
      "Enter am or pm : am\n",
      "7 am\n"
     ]
    }
   ],
   "source": [
    "h = int(input('Enter hours :'))\n",
    "next = int(input(' how many to add'))\n",
    "type1 = (input('Enter am or pm : '))\n",
    "ans = ''\n",
    "if( next >= 12):\n",
    "    if(type1=='am'):\n",
    "        ans='pm'\n",
    "    else:\n",
    "        ans='am'\n",
    "    fans= h+next-12\n",
    "else:\n",
    "            print(fans,'am')"
   ]
  },
  {
   "cell_type": "code",
   "execution_count": null,
   "metadata": {},
   "outputs": [],
   "source": []
  },
  {
   "cell_type": "code",
   "execution_count": null,
   "metadata": {},
   "outputs": [],
   "source": []
  }
 ],
 "metadata": {
  "kernelspec": {
   "display_name": "Python 3",
   "language": "python",
   "name": "python3"
  },
  "language_info": {
   "codemirror_mode": {
    "name": "ipython",
    "version": 3
   },
   "file_extension": ".py",
   "mimetype": "text/x-python",
   "name": "python",
   "nbconvert_exporter": "python",
   "pygments_lexer": "ipython3",
   "version": "3.8.5"
  }
 },
 "nbformat": 4,
 "nbformat_minor": 4
}
