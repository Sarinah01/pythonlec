{
 "cells": [
  {
   "cell_type": "code",
   "execution_count": 1,
   "metadata": {},
   "outputs": [
    {
     "data": {
      "text/plain": [
       "0.0"
      ]
     },
     "execution_count": 1,
     "metadata": {},
     "output_type": "execute_result"
    }
   ],
   "source": [
    "1/True and False/1"
   ]
  },
  {
   "cell_type": "code",
   "execution_count": 2,
   "metadata": {},
   "outputs": [
    {
     "ename": "TypeError",
     "evalue": "argument of type 'int' is not iterable",
     "output_type": "error",
     "traceback": [
      "\u001b[1;31m---------------------------------------------------------------------------\u001b[0m",
      "\u001b[1;31mTypeError\u001b[0m                                 Traceback (most recent call last)",
      "\u001b[1;32m<ipython-input-2-a98a41fd2b41>\u001b[0m in \u001b[0;36m<module>\u001b[1;34m\u001b[0m\n\u001b[1;32m----> 1\u001b[1;33m \u001b[1;34m'1'\u001b[0m \u001b[1;32min\u001b[0m \u001b[1;36m123\u001b[0m\u001b[1;33m\u001b[0m\u001b[1;33m\u001b[0m\u001b[0m\n\u001b[0m",
      "\u001b[1;31mTypeError\u001b[0m: argument of type 'int' is not iterable"
     ]
    }
   ],
   "source": [
    "'1' in 123"
   ]
  },
  {
   "cell_type": "code",
   "execution_count": 3,
   "metadata": {},
   "outputs": [
    {
     "name": "stderr",
     "output_type": "stream",
     "text": [
      "<>:1: SyntaxWarning: \"is\" with a literal. Did you mean \"==\"?\n",
      "<>:1: SyntaxWarning: \"is\" with a literal. Did you mean \"==\"?\n",
      "<ipython-input-3-c4ba21148a2b>:1: SyntaxWarning: \"is\" with a literal. Did you mean \"==\"?\n",
      "  1 is 1\n"
     ]
    },
    {
     "data": {
      "text/plain": [
       "True"
      ]
     },
     "execution_count": 3,
     "metadata": {},
     "output_type": "execute_result"
    }
   ],
   "source": [
    " 1 is 1"
   ]
  },
  {
   "cell_type": "code",
   "execution_count": 4,
   "metadata": {},
   "outputs": [
    {
     "name": "stderr",
     "output_type": "stream",
     "text": [
      "<>:1: SyntaxWarning: \"is\" with a literal. Did you mean \"==\"?\n",
      "<>:1: SyntaxWarning: \"is\" with a literal. Did you mean \"==\"?\n",
      "<ipython-input-4-2ebf4c947f31>:1: SyntaxWarning: \"is\" with a literal. Did you mean \"==\"?\n",
      "  1 is 1.0\n"
     ]
    },
    {
     "data": {
      "text/plain": [
       "False"
      ]
     },
     "execution_count": 4,
     "metadata": {},
     "output_type": "execute_result"
    }
   ],
   "source": [
    "1 is 1.0"
   ]
  },
  {
   "cell_type": "code",
   "execution_count": 5,
   "metadata": {},
   "outputs": [
    {
     "data": {
      "text/plain": [
       "5"
      ]
     },
     "execution_count": 5,
     "metadata": {},
     "output_type": "execute_result"
    }
   ],
   "source": [
    "5 or 3"
   ]
  },
  {
   "cell_type": "code",
   "execution_count": 6,
   "metadata": {},
   "outputs": [
    {
     "name": "stdout",
     "output_type": "stream",
     "text": [
      "5\n"
     ]
    }
   ],
   "source": [
    "print(5 or 3)"
   ]
  },
  {
   "cell_type": "code",
   "execution_count": 7,
   "metadata": {},
   "outputs": [
    {
     "data": {
      "text/plain": [
       "3"
      ]
     },
     "execution_count": 7,
     "metadata": {},
     "output_type": "execute_result"
    }
   ],
   "source": [
    "5 and 3"
   ]
  },
  {
   "cell_type": "code",
   "execution_count": 8,
   "metadata": {},
   "outputs": [
    {
     "data": {
      "text/plain": [
       "1"
      ]
     },
     "execution_count": 8,
     "metadata": {},
     "output_type": "execute_result"
    }
   ],
   "source": [
    "5>>2 #5/4"
   ]
  },
  {
   "cell_type": "code",
   "execution_count": 9,
   "metadata": {},
   "outputs": [
    {
     "data": {
      "text/plain": [
       "20"
      ]
     },
     "execution_count": 9,
     "metadata": {},
     "output_type": "execute_result"
    }
   ],
   "source": [
    " 5<<2  #5*4"
   ]
  },
  {
   "cell_type": "code",
   "execution_count": 10,
   "metadata": {},
   "outputs": [
    {
     "name": "stdout",
     "output_type": "stream",
     "text": [
      "hi\n"
     ]
    }
   ],
   "source": [
    "if 1==1:\n",
    "    print('hi')\n",
    "else:\n",
    "    print('sssssss')"
   ]
  },
  {
   "cell_type": "code",
   "execution_count": 11,
   "metadata": {},
   "outputs": [
    {
     "name": "stdout",
     "output_type": "stream",
     "text": [
      "enter number: 45\n",
      "45\n",
      "<class 'str'>\n"
     ]
    }
   ],
   "source": [
    "n = input(\"enter number: \")\n",
    "print(n)\n",
    "print(type(n))"
   ]
  },
  {
   "cell_type": "code",
   "execution_count": 22,
   "metadata": {},
   "outputs": [
    {
     "name": "stdout",
     "output_type": "stream",
     "text": [
      "enter number:44\n",
      "44 is even\n"
     ]
    }
   ],
   "source": [
    "n = input(\"enter number:\")\n",
    "if(int(n) % 2 == 0):\n",
    "    print(f\"{n} is even\")\n",
    "else:\n",
    "    print('Number {n} is odd')"
   ]
  },
  {
   "cell_type": "code",
   "execution_count": 33,
   "metadata": {},
   "outputs": [
    {
     "name": "stdout",
     "output_type": "stream",
     "text": [
      "Enter Year: 56\n",
      "Number is leap year\n"
     ]
    }
   ],
   "source": [
    "n=int(input(\"Enter Year: \"))\n",
    "if((n%400 == 0) or (n%4 == 0 and n%100 !=0)):\n",
    "    print('Number is leap year')\n",
    "else:\n",
    "    print('Not leap yearr')"
   ]
  },
  {
   "cell_type": "code",
   "execution_count": 36,
   "metadata": {},
   "outputs": [
    {
     "name": "stdout",
     "output_type": "stream",
     "text": [
      "Enter amount: 177\n",
      " 2 nivkle 1 quarter 2 quarter"
     ]
    }
   ],
   "source": [
    "n = int(input(\"Enter amount: \"))\n",
    "if n>=75:\n",
    "    nic = n//75\n",
    "    n = n%75\n",
    "    print(f\" {nic} nivkle\", end=\"\")\n",
    "    \n",
    "if n>=25:\n",
    "    nic = n//25\n",
    "    n = n%25\n",
    "    print(f\" {nic} quarter\", end=\"\")\n",
    "\n",
    "if n>=10:\n",
    "    nic = n//10\n",
    "    n = n%10\n",
    "    print(f\" {nic} tens\", end=\"\")\n",
    "    \n",
    "if n>=5:\n",
    "    nic = n//5\n",
    "    n = n%5\n",
    "    print(f\" {nic} fives\", end=\"\")\n",
    "\n",
    "if n>=1:\n",
    "    nic = n//1\n",
    "    n = n%1\n",
    "    print(f\" {nic} penny\", end=\"\")"
   ]
  },
  {
   "cell_type": "code",
   "execution_count": 75,
   "metadata": {},
   "outputs": [
    {
     "name": "stdout",
     "output_type": "stream",
     "text": [
      "Enter date: 1\n",
      "Enter Month: 12\n",
      "Enter year: 2024\n",
      "1 12 2024\n"
     ]
    }
   ],
   "source": [
    "day = int(input(\"Enter date: \"))\n",
    "month = int(input(\"Enter Month: \"))\n",
    "year = int(input(\"Enter year: \"))\n",
    "if(day <0 or month <0 or year <0 or month >12 or day >31):\n",
    "    print(\"invalid input!\")\n",
    "else:\n",
    "    #     check leap year:\n",
    "    if((year%400 == 0) or (year%4 == 0 and year%100 !=0)):\n",
    "        checkLeap = True\n",
    "    else:\n",
    "        checkLeap = False\n",
    "        if(month ==2):\n",
    "                if(checkLeap == False):\n",
    "                    if(day>=1 and day <= 27):\n",
    "                        day = day +1\n",
    "                    else:\n",
    "                        day = 1\n",
    "                else:\n",
    "                    if(day>=1 and day <= 28):\n",
    "                        day = day +1\n",
    "                    else:\n",
    "                        day = 1\n",
    "\n",
    "        #checking for month:\n",
    "        if(month>=1 and month<=11):\n",
    "                month = month + 1\n",
    "        else:\n",
    "            month = 1\n",
    "            year = year +1\n",
    "        \n",
    "        #checking for odd months:\n",
    "        if(month ==1 or month ==3 or month==5 or month == 7 or month == 8 or month == 10):\n",
    "            \n",
    "                        \n",
    "            if(month == 12):\n",
    "                if(day >=1 and day<=30):\n",
    "                    day = day+1\n",
    "                else:\n",
    "                        day = 1\n",
    "                        month = month +1\n",
    "        else:\n",
    "                day =1;\n",
    "                year = year +1\n",
    "                month = 1;\n",
    "\n",
    "            else:\n",
    "                if(day>=1 and day<=29):\n",
    "                        day = day+1\n",
    "                else:\n",
    "                    day = 1\n",
    "                    month = month +1\n",
    "            \n",
    "print(day,month,year)"
   ]
  },
  {
   "cell_type": "code",
   "execution_count": null,
   "metadata": {},
   "outputs": [],
   "source": [
    "cm = int(input('Enter in cm: '))\n",
    "if cm >1000"
   ]
  }
 ],
 "metadata": {
  "kernelspec": {
   "display_name": "Python 3",
   "language": "python",
   "name": "python3"
  },
  "language_info": {
   "codemirror_mode": {
    "name": "ipython",
    "version": 3
   },
   "file_extension": ".py",
   "mimetype": "text/x-python",
   "name": "python",
   "nbconvert_exporter": "python",
   "pygments_lexer": "ipython3",
   "version": "3.8.5"
  }
 },
 "nbformat": 4,
 "nbformat_minor": 4
}
